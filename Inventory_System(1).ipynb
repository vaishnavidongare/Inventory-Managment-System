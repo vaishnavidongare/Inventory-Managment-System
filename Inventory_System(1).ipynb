{
  "nbformat": 4,
  "nbformat_minor": 0,
  "metadata": {
    "colab": {
      "name": " Inventory System.ipynb",
      "provenance": [],
      "collapsed_sections": []
    },
    "kernelspec": {
      "display_name": "Python 3",
      "name": "python3"
    },
    "language_info": {
      "name": "python"
    }
  },
  "cells": [
    {
      "cell_type": "code",
      "metadata": {
        "id": "h8EEYgxXXfkY"
      },
      "source": [
        "record = { 2001 : {\"Name\" : \"Choclate\" , \"Price\":10 , \"Discount%\":\"20\" , \"Exp Date\":\"March2022\" , \"Quantity\":\"20\"},\n",
        "          2002 : {\"Name\" : \"Marie\" , \"Price\":40 , \"Discount%\":\"10\" , \"Exp Date\":\"March2022\" , \"Quantity\":\"80\"},\n",
        "          2003 : {\"Name\" : \"Peark\",\"Price\":40,\"Discount%\":\"30\",\"Exp Date\":\"March2022\", \"Quantity\":\"30\"},\n",
        "          2004 : {\"Name\" : \"Chocos\",\"Price\":60,\"Discount%\":\"10\",\"Exp Date\":\"March2022\",\"Quantity\":\"50\"},\n",
        "          2005 : {\"Name\" : \"Lolipop\",\"Price\":70,\"Discount%\":\"40\",\"Exp Date\":\"March2022\",\"Quantity\":\"60\"},\n",
        "          2006 : {\"Name\" : \"Parle G\",\"Price\":22,\"Discount%\":\"50\",\"Exp Date\":\"March2022\",\"Quantity\":\"80\"},\n",
        "          2007 : {\"Name\" : \"Bourbob\",\"Price\":23,\"Discount%\":\"20\",\"Exp Date\":\"March2022\",\"Quantity\":\"30\"},\n",
        "          2008 : {\"Name\" : \"Melody\",\"Price\":34,\"Discount%\":\"20\",\"Exp Date\":\"March2022\",\"Quantity\":\"40\"},\n",
        "          2009 : {\"Name\" : \"Milky\",\"Price\":67,\"Discount%\":\"20\",\"Exp Date\":\"March2022\",\"Quantity\":\"60\"},\n",
        "          2010 : {\"Name\" : \"Diary Milk\",\"Price\":55,\"Discount%\":\"30\",\"Exp Date\":\"March2022\",\"Quantity\":\"70\"},\n",
        "          2011 : {\"Name\" : \"Maza\",\"Price\":50,\"Discount%\":\"40\",\"Exp Date\":\"March2022\",\"Quantity\":\"70\"},\n",
        "          2012 : {\"Name\" : \"7 up\",\"Price\":40,\"Discount%\":\"60\",\"Exp Date\":\"March2022\",\"Quantity\":\"80\"},\n",
        "          2013 : {\"Name\" : \"Slice\",\"Price\":50,\"Discount%\":\"10\",\"Exp Date\":\"March2022\",\"Quantity\":\"90\"},\n",
        "          2014 : {\"Name\" : \"Fantacy\",\"Price\":80,\"Discount%\":\"20\",\"Exp Date\":\"March2022\",\"Quantity\":\"45\"},\n",
        "          2015 : {\"Name\" : \"Kitkat\",\"Price\":60,\"Discount%\":\"60\",\"Exp Date\":\"March2022\",\"Quantity\":\"55\"},\n",
        "          2016 : {\"Name\" : \"Monaco\",\"Price\":50,\"Discount%\":\"20\",\"Exp Date\":\"March2022\",\"Quantity\":\"65\"},\n",
        "          2017 : {\"Name\" : \"Oreo\",\"Price\":50,\"Discount%\":\"10\",\"Exp Date\":\"March2022\",\"Quantity\":\"76\"},\n",
        "          2018 : {\"Name\" : \"Cake\",\"Price\":90,\"Discount%\":\"30\",\"Exp Date\":\"March2022\",\"Quantity\":\"87\"},\n",
        "          2019 : {\"Name\" : \"Chips\",\"Price\":80,\"Discount%\":\"40\",\"Exp Date\":\"March2022\",\"Quantity\":\"77\"},\n",
        "          2020 : {\"Name\" : \"Badam shek\",\"Price\":30,\"Discount%\":\"30\",\"Exp Date\":\"March2022\",\"Quantity\":\"45\"},\n",
        "          2021 : {\"Name\" : \"Dark silk\",\"Price\":60,\"Discount%\":\"50\",\"Exp Date\":\"March2022\",\"Quantity\":\"65\"},\n",
        "          2022 : {\"Name\" : \"Limca\",\"Price\":70,\"Discount%\":\"40\",\"Exp Date\":\"March2022\",\"Quantity\":\"77\"},\n",
        "          2023 : {\"Name\" : \"Pepsi\",\"Price\":40,\"Discount%\":\"40\",\"Exp Date\":\"March2022\",\"Quantity\":\"66\"},\n",
        "          2024 : {\"Name\" : \"Balaji vapour\",\"Price\":50,\"Discount%\":\"30\",\"Exp Date\":\"March2022\",\"Quantity\":\"87\"},\n",
        "          2025 : {\"Name\" : \"Cold coffee\",\"Price\":30,\"Discount%\":\"20\",\"Exp Date\":\"March2022\",\"Quantity\":\"56\"},\n",
        "          2026 : {\"Name\" : \"Goodday\",\"Price\":60,\"Discount%\":\"10\",\"Exp Date\":\"March2022\",\"Quantity\":\"34\"},\n",
        "          2027 : {\"Name\" : \"Maggie\",\"Price\":50,\"Discount%\":\"20\",\"Exp Date\":\"March2022\",\"Quantity\":\"32\"},\n",
        "          2028 : {\"Name\" : \"Banana chips\",\"Price\":90,\"Discount%\":\"20\",\"Exp Date\":\"March2022\",\"Quantity\":\"87\"},\n",
        "          2029 : {\"Name\" : \"Mung Dal\",\"Price\":40,\"Discount%\":\"20\",\"Exp Date\":\"March2022\",\"Quantity\":\"90\"},\n",
        "          2030 : {\"Name\" : \"Bread\",\"Price\":60,\"Discount%\":\"20\",\"Exp Date\":\"March2022\",\"Quantity\":\"39\"}}"
      ],
      "execution_count": 33,
      "outputs": []
    },
    {
      "cell_type": "code",
      "metadata": {
        "id": "IEv1pDiEcq8m",
        "colab": {
          "base_uri": "https://localhost:8080/"
        },
        "outputId": "aa2245f3-3498-484f-ab9b-af562dae245d"
      },
      "source": [
        "record"
      ],
      "execution_count": 34,
      "outputs": [
        {
          "output_type": "execute_result",
          "data": {
            "text/plain": [
              "{2001: {'Discount%': '20',\n",
              "  'Exp Date': 'March2022',\n",
              "  'Name': 'Choclate',\n",
              "  'Price': 10,\n",
              "  'Quantity': '20'},\n",
              " 2002: {'Discount%': '10',\n",
              "  'Exp Date': 'March2022',\n",
              "  'Name': 'Marie',\n",
              "  'Price': 40,\n",
              "  'Quantity': '80'},\n",
              " 2003: {'Discount%': '30',\n",
              "  'Exp Date': 'March2022',\n",
              "  'Name': 'Peark',\n",
              "  'Price': 40,\n",
              "  'Quantity': '30'},\n",
              " 2004: {'Discount%': '10',\n",
              "  'Exp Date': 'March2022',\n",
              "  'Name': 'Chocos',\n",
              "  'Price': 60,\n",
              "  'Quantity': '50'},\n",
              " 2005: {'Discount%': '40',\n",
              "  'Exp Date': 'March2022',\n",
              "  'Name': 'Lolipop',\n",
              "  'Price': 70,\n",
              "  'Quantity': '60'},\n",
              " 2006: {'Discount%': '50',\n",
              "  'Exp Date': 'March2022',\n",
              "  'Name': 'Parle G',\n",
              "  'Price': 22,\n",
              "  'Quantity': '80'},\n",
              " 2007: {'Discount%': '20',\n",
              "  'Exp Date': 'March2022',\n",
              "  'Name': 'Bourbob',\n",
              "  'Price': 23,\n",
              "  'Quantity': '30'},\n",
              " 2008: {'Discount%': '20',\n",
              "  'Exp Date': 'March2022',\n",
              "  'Name': 'Melody',\n",
              "  'Price': 34,\n",
              "  'Quantity': '40'},\n",
              " 2009: {'Discount%': '20',\n",
              "  'Exp Date': 'March2022',\n",
              "  'Name': 'Milky',\n",
              "  'Price': 67,\n",
              "  'Quantity': '60'},\n",
              " 2010: {'Discount%': '30',\n",
              "  'Exp Date': 'March2022',\n",
              "  'Name': 'Diary Milk',\n",
              "  'Price': 55,\n",
              "  'Quantity': '70'},\n",
              " 2011: {'Discount%': '40',\n",
              "  'Exp Date': 'March2022',\n",
              "  'Name': 'Maza',\n",
              "  'Price': 50,\n",
              "  'Quantity': '70'},\n",
              " 2012: {'Discount%': '60',\n",
              "  'Exp Date': 'March2022',\n",
              "  'Name': '7 up',\n",
              "  'Price': 40,\n",
              "  'Quantity': '80'},\n",
              " 2013: {'Discount%': '10',\n",
              "  'Exp Date': 'March2022',\n",
              "  'Name': 'Slice',\n",
              "  'Price': 50,\n",
              "  'Quantity': '90'},\n",
              " 2014: {'Discount%': '20',\n",
              "  'Exp Date': 'March2022',\n",
              "  'Name': 'Fantacy',\n",
              "  'Price': 80,\n",
              "  'Quantity': '45'},\n",
              " 2015: {'Discount%': '60',\n",
              "  'Exp Date': 'March2022',\n",
              "  'Name': 'Kitkat',\n",
              "  'Price': 60,\n",
              "  'Quantity': '55'},\n",
              " 2016: {'Discount%': '20',\n",
              "  'Exp Date': 'March2022',\n",
              "  'Name': 'Monaco',\n",
              "  'Price': 50,\n",
              "  'Quantity': '65'},\n",
              " 2017: {'Discount%': '10',\n",
              "  'Exp Date': 'March2022',\n",
              "  'Name': 'Oreo',\n",
              "  'Price': 50,\n",
              "  'Quantity': '76'},\n",
              " 2018: {'Discount%': '30',\n",
              "  'Exp Date': 'March2022',\n",
              "  'Name': 'Cake',\n",
              "  'Price': 90,\n",
              "  'Quantity': '87'},\n",
              " 2019: {'Discount%': '40',\n",
              "  'Exp Date': 'March2022',\n",
              "  'Name': 'Chips',\n",
              "  'Price': 80,\n",
              "  'Quantity': '77'},\n",
              " 2020: {'Discount%': '30',\n",
              "  'Exp Date': 'March2022',\n",
              "  'Name': 'Badam shek',\n",
              "  'Price': 30,\n",
              "  'Quantity': '45'},\n",
              " 2021: {'Discount%': '50',\n",
              "  'Exp Date': 'March2022',\n",
              "  'Name': 'Dark silk',\n",
              "  'Price': 60,\n",
              "  'Quantity': '65'},\n",
              " 2022: {'Discount%': '40',\n",
              "  'Exp Date': 'March2022',\n",
              "  'Name': 'Limca',\n",
              "  'Price': 70,\n",
              "  'Quantity': '77'},\n",
              " 2023: {'Discount%': '40',\n",
              "  'Exp Date': 'March2022',\n",
              "  'Name': 'Pepsi',\n",
              "  'Price': 40,\n",
              "  'Quantity': '66'},\n",
              " 2024: {'Discount%': '30',\n",
              "  'Exp Date': 'March2022',\n",
              "  'Name': 'Balaji vapour',\n",
              "  'Price': 50,\n",
              "  'Quantity': '87'},\n",
              " 2025: {'Discount%': '20',\n",
              "  'Exp Date': 'March2022',\n",
              "  'Name': 'Cold coffee',\n",
              "  'Price': 30,\n",
              "  'Quantity': '56'},\n",
              " 2026: {'Discount%': '10',\n",
              "  'Exp Date': 'March2022',\n",
              "  'Name': 'Goodday',\n",
              "  'Price': 60,\n",
              "  'Quantity': '34'},\n",
              " 2027: {'Discount%': '20',\n",
              "  'Exp Date': 'March2022',\n",
              "  'Name': 'Maggie',\n",
              "  'Price': 50,\n",
              "  'Quantity': '32'},\n",
              " 2028: {'Discount%': '20',\n",
              "  'Exp Date': 'March2022',\n",
              "  'Name': 'Banana chips',\n",
              "  'Price': 90,\n",
              "  'Quantity': '87'},\n",
              " 2029: {'Discount%': '20',\n",
              "  'Exp Date': 'March2022',\n",
              "  'Name': 'Mung Dal',\n",
              "  'Price': 40,\n",
              "  'Quantity': '90'},\n",
              " 2030: {'Discount%': '20',\n",
              "  'Exp Date': 'March2022',\n",
              "  'Name': 'Bread',\n",
              "  'Price': 60,\n",
              "  'Quantity': '39'}}"
            ]
          },
          "metadata": {},
          "execution_count": 34
        }
      ]
    },
    {
      "cell_type": "code",
      "metadata": {
        "id": "g93EmwVDeZPC"
      },
      "source": [
        "import json"
      ],
      "execution_count": 35,
      "outputs": []
    },
    {
      "cell_type": "code",
      "metadata": {
        "id": "ox6AOQ9WeeuV"
      },
      "source": [
        "js = json.dumps(record)"
      ],
      "execution_count": 36,
      "outputs": []
    },
    {
      "cell_type": "code",
      "metadata": {
        "id": "tjy-KWISelXN",
        "colab": {
          "base_uri": "https://localhost:8080/",
          "height": 146
        },
        "outputId": "ab61b73a-8d48-4ccc-8a97-6e28807d3aa0"
      },
      "source": [
        "js"
      ],
      "execution_count": 37,
      "outputs": [
        {
          "output_type": "execute_result",
          "data": {
            "application/vnd.google.colaboratory.intrinsic+json": {
              "type": "string"
            },
            "text/plain": [
              "'{\"2001\": {\"Name\": \"Choclate\", \"Price\": 10, \"Discount%\": \"20\", \"Exp Date\": \"March2022\", \"Quantity\": \"20\"}, \"2002\": {\"Name\": \"Marie\", \"Price\": 40, \"Discount%\": \"10\", \"Exp Date\": \"March2022\", \"Quantity\": \"80\"}, \"2003\": {\"Name\": \"Peark\", \"Price\": 40, \"Discount%\": \"30\", \"Exp Date\": \"March2022\", \"Quantity\": \"30\"}, \"2004\": {\"Name\": \"Chocos\", \"Price\": 60, \"Discount%\": \"10\", \"Exp Date\": \"March2022\", \"Quantity\": \"50\"}, \"2005\": {\"Name\": \"Lolipop\", \"Price\": 70, \"Discount%\": \"40\", \"Exp Date\": \"March2022\", \"Quantity\": \"60\"}, \"2006\": {\"Name\": \"Parle G\", \"Price\": 22, \"Discount%\": \"50\", \"Exp Date\": \"March2022\", \"Quantity\": \"80\"}, \"2007\": {\"Name\": \"Bourbob\", \"Price\": 23, \"Discount%\": \"20\", \"Exp Date\": \"March2022\", \"Quantity\": \"30\"}, \"2008\": {\"Name\": \"Melody\", \"Price\": 34, \"Discount%\": \"20\", \"Exp Date\": \"March2022\", \"Quantity\": \"40\"}, \"2009\": {\"Name\": \"Milky\", \"Price\": 67, \"Discount%\": \"20\", \"Exp Date\": \"March2022\", \"Quantity\": \"60\"}, \"2010\": {\"Name\": \"Diary Milk\", \"Price\": 55, \"Discount%\": \"30\", \"Exp Date\": \"March2022\", \"Quantity\": \"70\"}, \"2011\": {\"Name\": \"Maza\", \"Price\": 50, \"Discount%\": \"40\", \"Exp Date\": \"March2022\", \"Quantity\": \"70\"}, \"2012\": {\"Name\": \"7 up\", \"Price\": 40, \"Discount%\": \"60\", \"Exp Date\": \"March2022\", \"Quantity\": \"80\"}, \"2013\": {\"Name\": \"Slice\", \"Price\": 50, \"Discount%\": \"10\", \"Exp Date\": \"March2022\", \"Quantity\": \"90\"}, \"2014\": {\"Name\": \"Fantacy\", \"Price\": 80, \"Discount%\": \"20\", \"Exp Date\": \"March2022\", \"Quantity\": \"45\"}, \"2015\": {\"Name\": \"Kitkat\", \"Price\": 60, \"Discount%\": \"60\", \"Exp Date\": \"March2022\", \"Quantity\": \"55\"}, \"2016\": {\"Name\": \"Monaco\", \"Price\": 50, \"Discount%\": \"20\", \"Exp Date\": \"March2022\", \"Quantity\": \"65\"}, \"2017\": {\"Name\": \"Oreo\", \"Price\": 50, \"Discount%\": \"10\", \"Exp Date\": \"March2022\", \"Quantity\": \"76\"}, \"2018\": {\"Name\": \"Cake\", \"Price\": 90, \"Discount%\": \"30\", \"Exp Date\": \"March2022\", \"Quantity\": \"87\"}, \"2019\": {\"Name\": \"Chips\", \"Price\": 80, \"Discount%\": \"40\", \"Exp Date\": \"March2022\", \"Quantity\": \"77\"}, \"2020\": {\"Name\": \"Badam shek\", \"Price\": 30, \"Discount%\": \"30\", \"Exp Date\": \"March2022\", \"Quantity\": \"45\"}, \"2021\": {\"Name\": \"Dark silk\", \"Price\": 60, \"Discount%\": \"50\", \"Exp Date\": \"March2022\", \"Quantity\": \"65\"}, \"2022\": {\"Name\": \"Limca\", \"Price\": 70, \"Discount%\": \"40\", \"Exp Date\": \"March2022\", \"Quantity\": \"77\"}, \"2023\": {\"Name\": \"Pepsi\", \"Price\": 40, \"Discount%\": \"40\", \"Exp Date\": \"March2022\", \"Quantity\": \"66\"}, \"2024\": {\"Name\": \"Balaji vapour\", \"Price\": 50, \"Discount%\": \"30\", \"Exp Date\": \"March2022\", \"Quantity\": \"87\"}, \"2025\": {\"Name\": \"Cold coffee\", \"Price\": 30, \"Discount%\": \"20\", \"Exp Date\": \"March2022\", \"Quantity\": \"56\"}, \"2026\": {\"Name\": \"Goodday\", \"Price\": 60, \"Discount%\": \"10\", \"Exp Date\": \"March2022\", \"Quantity\": \"34\"}, \"2027\": {\"Name\": \"Maggie\", \"Price\": 50, \"Discount%\": \"20\", \"Exp Date\": \"March2022\", \"Quantity\": \"32\"}, \"2028\": {\"Name\": \"Banana chips\", \"Price\": 90, \"Discount%\": \"20\", \"Exp Date\": \"March2022\", \"Quantity\": \"87\"}, \"2029\": {\"Name\": \"Mung Dal\", \"Price\": 40, \"Discount%\": \"20\", \"Exp Date\": \"March2022\", \"Quantity\": \"90\"}, \"2030\": {\"Name\": \"Bread\", \"Price\": 60, \"Discount%\": \"20\", \"Exp Date\": \"March2022\", \"Quantity\": \"39\"}}'"
            ]
          },
          "metadata": {},
          "execution_count": 37
        }
      ]
    },
    {
      "cell_type": "code",
      "metadata": {
        "id": "MaKLFAMjeqIC"
      },
      "source": [
        "fd = open(\"record.json\",\"w\")\n",
        "fd.write(js)\n",
        "fd.close()"
      ],
      "execution_count": 38,
      "outputs": []
    },
    {
      "cell_type": "code",
      "metadata": {
        "id": "zJHCHTKMe6HX"
      },
      "source": [
        "fd = open(\"record.json\",\"r\")\n",
        "r = fd.read()\n",
        "fd.close()"
      ],
      "execution_count": 39,
      "outputs": []
    },
    {
      "cell_type": "code",
      "metadata": {
        "id": "DHmAfwUGfHcq",
        "colab": {
          "base_uri": "https://localhost:8080/",
          "height": 146
        },
        "outputId": "45ed3cbf-6ea7-4075-f5be-ef922e15f2cc"
      },
      "source": [
        "r\n"
      ],
      "execution_count": 40,
      "outputs": [
        {
          "output_type": "execute_result",
          "data": {
            "application/vnd.google.colaboratory.intrinsic+json": {
              "type": "string"
            },
            "text/plain": [
              "'{\"2001\": {\"Name\": \"Choclate\", \"Price\": 10, \"Discount%\": \"20\", \"Exp Date\": \"March2022\", \"Quantity\": \"20\"}, \"2002\": {\"Name\": \"Marie\", \"Price\": 40, \"Discount%\": \"10\", \"Exp Date\": \"March2022\", \"Quantity\": \"80\"}, \"2003\": {\"Name\": \"Peark\", \"Price\": 40, \"Discount%\": \"30\", \"Exp Date\": \"March2022\", \"Quantity\": \"30\"}, \"2004\": {\"Name\": \"Chocos\", \"Price\": 60, \"Discount%\": \"10\", \"Exp Date\": \"March2022\", \"Quantity\": \"50\"}, \"2005\": {\"Name\": \"Lolipop\", \"Price\": 70, \"Discount%\": \"40\", \"Exp Date\": \"March2022\", \"Quantity\": \"60\"}, \"2006\": {\"Name\": \"Parle G\", \"Price\": 22, \"Discount%\": \"50\", \"Exp Date\": \"March2022\", \"Quantity\": \"80\"}, \"2007\": {\"Name\": \"Bourbob\", \"Price\": 23, \"Discount%\": \"20\", \"Exp Date\": \"March2022\", \"Quantity\": \"30\"}, \"2008\": {\"Name\": \"Melody\", \"Price\": 34, \"Discount%\": \"20\", \"Exp Date\": \"March2022\", \"Quantity\": \"40\"}, \"2009\": {\"Name\": \"Milky\", \"Price\": 67, \"Discount%\": \"20\", \"Exp Date\": \"March2022\", \"Quantity\": \"60\"}, \"2010\": {\"Name\": \"Diary Milk\", \"Price\": 55, \"Discount%\": \"30\", \"Exp Date\": \"March2022\", \"Quantity\": \"70\"}, \"2011\": {\"Name\": \"Maza\", \"Price\": 50, \"Discount%\": \"40\", \"Exp Date\": \"March2022\", \"Quantity\": \"70\"}, \"2012\": {\"Name\": \"7 up\", \"Price\": 40, \"Discount%\": \"60\", \"Exp Date\": \"March2022\", \"Quantity\": \"80\"}, \"2013\": {\"Name\": \"Slice\", \"Price\": 50, \"Discount%\": \"10\", \"Exp Date\": \"March2022\", \"Quantity\": \"90\"}, \"2014\": {\"Name\": \"Fantacy\", \"Price\": 80, \"Discount%\": \"20\", \"Exp Date\": \"March2022\", \"Quantity\": \"45\"}, \"2015\": {\"Name\": \"Kitkat\", \"Price\": 60, \"Discount%\": \"60\", \"Exp Date\": \"March2022\", \"Quantity\": \"55\"}, \"2016\": {\"Name\": \"Monaco\", \"Price\": 50, \"Discount%\": \"20\", \"Exp Date\": \"March2022\", \"Quantity\": \"65\"}, \"2017\": {\"Name\": \"Oreo\", \"Price\": 50, \"Discount%\": \"10\", \"Exp Date\": \"March2022\", \"Quantity\": \"76\"}, \"2018\": {\"Name\": \"Cake\", \"Price\": 90, \"Discount%\": \"30\", \"Exp Date\": \"March2022\", \"Quantity\": \"87\"}, \"2019\": {\"Name\": \"Chips\", \"Price\": 80, \"Discount%\": \"40\", \"Exp Date\": \"March2022\", \"Quantity\": \"77\"}, \"2020\": {\"Name\": \"Badam shek\", \"Price\": 30, \"Discount%\": \"30\", \"Exp Date\": \"March2022\", \"Quantity\": \"45\"}, \"2021\": {\"Name\": \"Dark silk\", \"Price\": 60, \"Discount%\": \"50\", \"Exp Date\": \"March2022\", \"Quantity\": \"65\"}, \"2022\": {\"Name\": \"Limca\", \"Price\": 70, \"Discount%\": \"40\", \"Exp Date\": \"March2022\", \"Quantity\": \"77\"}, \"2023\": {\"Name\": \"Pepsi\", \"Price\": 40, \"Discount%\": \"40\", \"Exp Date\": \"March2022\", \"Quantity\": \"66\"}, \"2024\": {\"Name\": \"Balaji vapour\", \"Price\": 50, \"Discount%\": \"30\", \"Exp Date\": \"March2022\", \"Quantity\": \"87\"}, \"2025\": {\"Name\": \"Cold coffee\", \"Price\": 30, \"Discount%\": \"20\", \"Exp Date\": \"March2022\", \"Quantity\": \"56\"}, \"2026\": {\"Name\": \"Goodday\", \"Price\": 60, \"Discount%\": \"10\", \"Exp Date\": \"March2022\", \"Quantity\": \"34\"}, \"2027\": {\"Name\": \"Maggie\", \"Price\": 50, \"Discount%\": \"20\", \"Exp Date\": \"March2022\", \"Quantity\": \"32\"}, \"2028\": {\"Name\": \"Banana chips\", \"Price\": 90, \"Discount%\": \"20\", \"Exp Date\": \"March2022\", \"Quantity\": \"87\"}, \"2029\": {\"Name\": \"Mung Dal\", \"Price\": 40, \"Discount%\": \"20\", \"Exp Date\": \"March2022\", \"Quantity\": \"90\"}, \"2030\": {\"Name\": \"Bread\", \"Price\": 60, \"Discount%\": \"20\", \"Exp Date\": \"March2022\", \"Quantity\": \"39\"}}'"
            ]
          },
          "metadata": {},
          "execution_count": 40
        }
      ]
    },
    {
      "cell_type": "code",
      "metadata": {
        "id": "Ne-XQiGUfMmN"
      },
      "source": [
        "record = json.loads(r)"
      ],
      "execution_count": 41,
      "outputs": []
    },
    {
      "cell_type": "code",
      "metadata": {
        "id": "seJXVOGdfWrF",
        "colab": {
          "base_uri": "https://localhost:8080/"
        },
        "outputId": "b836a8e4-7c89-4d04-ad03-789e0a37c216"
      },
      "source": [
        "record"
      ],
      "execution_count": 42,
      "outputs": [
        {
          "output_type": "execute_result",
          "data": {
            "text/plain": [
              "{'2001': {'Discount%': '20',\n",
              "  'Exp Date': 'March2022',\n",
              "  'Name': 'Choclate',\n",
              "  'Price': 10,\n",
              "  'Quantity': '20'},\n",
              " '2002': {'Discount%': '10',\n",
              "  'Exp Date': 'March2022',\n",
              "  'Name': 'Marie',\n",
              "  'Price': 40,\n",
              "  'Quantity': '80'},\n",
              " '2003': {'Discount%': '30',\n",
              "  'Exp Date': 'March2022',\n",
              "  'Name': 'Peark',\n",
              "  'Price': 40,\n",
              "  'Quantity': '30'},\n",
              " '2004': {'Discount%': '10',\n",
              "  'Exp Date': 'March2022',\n",
              "  'Name': 'Chocos',\n",
              "  'Price': 60,\n",
              "  'Quantity': '50'},\n",
              " '2005': {'Discount%': '40',\n",
              "  'Exp Date': 'March2022',\n",
              "  'Name': 'Lolipop',\n",
              "  'Price': 70,\n",
              "  'Quantity': '60'},\n",
              " '2006': {'Discount%': '50',\n",
              "  'Exp Date': 'March2022',\n",
              "  'Name': 'Parle G',\n",
              "  'Price': 22,\n",
              "  'Quantity': '80'},\n",
              " '2007': {'Discount%': '20',\n",
              "  'Exp Date': 'March2022',\n",
              "  'Name': 'Bourbob',\n",
              "  'Price': 23,\n",
              "  'Quantity': '30'},\n",
              " '2008': {'Discount%': '20',\n",
              "  'Exp Date': 'March2022',\n",
              "  'Name': 'Melody',\n",
              "  'Price': 34,\n",
              "  'Quantity': '40'},\n",
              " '2009': {'Discount%': '20',\n",
              "  'Exp Date': 'March2022',\n",
              "  'Name': 'Milky',\n",
              "  'Price': 67,\n",
              "  'Quantity': '60'},\n",
              " '2010': {'Discount%': '30',\n",
              "  'Exp Date': 'March2022',\n",
              "  'Name': 'Diary Milk',\n",
              "  'Price': 55,\n",
              "  'Quantity': '70'},\n",
              " '2011': {'Discount%': '40',\n",
              "  'Exp Date': 'March2022',\n",
              "  'Name': 'Maza',\n",
              "  'Price': 50,\n",
              "  'Quantity': '70'},\n",
              " '2012': {'Discount%': '60',\n",
              "  'Exp Date': 'March2022',\n",
              "  'Name': '7 up',\n",
              "  'Price': 40,\n",
              "  'Quantity': '80'},\n",
              " '2013': {'Discount%': '10',\n",
              "  'Exp Date': 'March2022',\n",
              "  'Name': 'Slice',\n",
              "  'Price': 50,\n",
              "  'Quantity': '90'},\n",
              " '2014': {'Discount%': '20',\n",
              "  'Exp Date': 'March2022',\n",
              "  'Name': 'Fantacy',\n",
              "  'Price': 80,\n",
              "  'Quantity': '45'},\n",
              " '2015': {'Discount%': '60',\n",
              "  'Exp Date': 'March2022',\n",
              "  'Name': 'Kitkat',\n",
              "  'Price': 60,\n",
              "  'Quantity': '55'},\n",
              " '2016': {'Discount%': '20',\n",
              "  'Exp Date': 'March2022',\n",
              "  'Name': 'Monaco',\n",
              "  'Price': 50,\n",
              "  'Quantity': '65'},\n",
              " '2017': {'Discount%': '10',\n",
              "  'Exp Date': 'March2022',\n",
              "  'Name': 'Oreo',\n",
              "  'Price': 50,\n",
              "  'Quantity': '76'},\n",
              " '2018': {'Discount%': '30',\n",
              "  'Exp Date': 'March2022',\n",
              "  'Name': 'Cake',\n",
              "  'Price': 90,\n",
              "  'Quantity': '87'},\n",
              " '2019': {'Discount%': '40',\n",
              "  'Exp Date': 'March2022',\n",
              "  'Name': 'Chips',\n",
              "  'Price': 80,\n",
              "  'Quantity': '77'},\n",
              " '2020': {'Discount%': '30',\n",
              "  'Exp Date': 'March2022',\n",
              "  'Name': 'Badam shek',\n",
              "  'Price': 30,\n",
              "  'Quantity': '45'},\n",
              " '2021': {'Discount%': '50',\n",
              "  'Exp Date': 'March2022',\n",
              "  'Name': 'Dark silk',\n",
              "  'Price': 60,\n",
              "  'Quantity': '65'},\n",
              " '2022': {'Discount%': '40',\n",
              "  'Exp Date': 'March2022',\n",
              "  'Name': 'Limca',\n",
              "  'Price': 70,\n",
              "  'Quantity': '77'},\n",
              " '2023': {'Discount%': '40',\n",
              "  'Exp Date': 'March2022',\n",
              "  'Name': 'Pepsi',\n",
              "  'Price': 40,\n",
              "  'Quantity': '66'},\n",
              " '2024': {'Discount%': '30',\n",
              "  'Exp Date': 'March2022',\n",
              "  'Name': 'Balaji vapour',\n",
              "  'Price': 50,\n",
              "  'Quantity': '87'},\n",
              " '2025': {'Discount%': '20',\n",
              "  'Exp Date': 'March2022',\n",
              "  'Name': 'Cold coffee',\n",
              "  'Price': 30,\n",
              "  'Quantity': '56'},\n",
              " '2026': {'Discount%': '10',\n",
              "  'Exp Date': 'March2022',\n",
              "  'Name': 'Goodday',\n",
              "  'Price': 60,\n",
              "  'Quantity': '34'},\n",
              " '2027': {'Discount%': '20',\n",
              "  'Exp Date': 'March2022',\n",
              "  'Name': 'Maggie',\n",
              "  'Price': 50,\n",
              "  'Quantity': '32'},\n",
              " '2028': {'Discount%': '20',\n",
              "  'Exp Date': 'March2022',\n",
              "  'Name': 'Banana chips',\n",
              "  'Price': 90,\n",
              "  'Quantity': '87'},\n",
              " '2029': {'Discount%': '20',\n",
              "  'Exp Date': 'March2022',\n",
              "  'Name': 'Mung Dal',\n",
              "  'Price': 40,\n",
              "  'Quantity': '90'},\n",
              " '2030': {'Discount%': '20',\n",
              "  'Exp Date': 'March2022',\n",
              "  'Name': 'Bread',\n",
              "  'Price': 60,\n",
              "  'Quantity': '39'}}"
            ]
          },
          "metadata": {},
          "execution_count": 42
        }
      ]
    },
    {
      "cell_type": "markdown",
      "metadata": {
        "id": "6PW6eN6-ieiH"
      },
      "source": [
        "#To add in Inventory\n"
      ]
    },
    {
      "cell_type": "code",
      "metadata": {
        "id": "X0e5TeNrilsy",
        "colab": {
          "base_uri": "https://localhost:8080/"
        },
        "outputId": "b4f268fa-facc-4eed-97f3-78f1e574b2b7"
      },
      "source": [
        "prod_id = str(input(\"Enter product id:\"))\n",
        "name = str(input(\"Enter product name:\"))\n",
        "pr = int(input(\"Enter product price:\"))\n",
        "disc = str(input(\"Enter product discount:\"))\n",
        "exp = str(input(\"Enter product expiry date:\"))\n",
        "qn = int(input(\"Enter product quantity:\"))\n",
        "\n",
        "record[prod_id] = {'name': name,'pr':pr,'disc':disc,'exp':exp,'qn':qn}\n",
        "\n",
        "js = json.dumps(record)\n",
        "\n",
        "fd = open(\"record.json\",\"w\")\n",
        "fd.write(js)\n",
        "fd.close()\n"
      ],
      "execution_count": 43,
      "outputs": [
        {
          "name": "stdout",
          "output_type": "stream",
          "text": [
            "Enter product id:8963\n",
            "Enter product name:5 Star\n",
            "Enter product price:60\n",
            "Enter product discount:5\n",
            "Enter product expiry date:May22\n",
            "Enter product quantity:100\n"
          ]
        }
      ]
    },
    {
      "cell_type": "code",
      "metadata": {
        "id": "pq_niCrzi4Mv"
      },
      "source": [
        "import json\n",
        "fd = open(\"record.json\",\"r\")\n",
        "r=fd.read()\n",
        "fd.close()\n",
        "\n",
        "records = json.loads(r)"
      ],
      "execution_count": 44,
      "outputs": []
    },
    {
      "cell_type": "code",
      "metadata": {
        "id": "g0Pom3AkjPN9",
        "colab": {
          "base_uri": "https://localhost:8080/"
        },
        "outputId": "02314dab-fe2e-4397-bdbe-e7551f47bc38"
      },
      "source": [
        "records"
      ],
      "execution_count": 45,
      "outputs": [
        {
          "output_type": "execute_result",
          "data": {
            "text/plain": [
              "{'2001': {'Discount%': '20',\n",
              "  'Exp Date': 'March2022',\n",
              "  'Name': 'Choclate',\n",
              "  'Price': 10,\n",
              "  'Quantity': '20'},\n",
              " '2002': {'Discount%': '10',\n",
              "  'Exp Date': 'March2022',\n",
              "  'Name': 'Marie',\n",
              "  'Price': 40,\n",
              "  'Quantity': '80'},\n",
              " '2003': {'Discount%': '30',\n",
              "  'Exp Date': 'March2022',\n",
              "  'Name': 'Peark',\n",
              "  'Price': 40,\n",
              "  'Quantity': '30'},\n",
              " '2004': {'Discount%': '10',\n",
              "  'Exp Date': 'March2022',\n",
              "  'Name': 'Chocos',\n",
              "  'Price': 60,\n",
              "  'Quantity': '50'},\n",
              " '2005': {'Discount%': '40',\n",
              "  'Exp Date': 'March2022',\n",
              "  'Name': 'Lolipop',\n",
              "  'Price': 70,\n",
              "  'Quantity': '60'},\n",
              " '2006': {'Discount%': '50',\n",
              "  'Exp Date': 'March2022',\n",
              "  'Name': 'Parle G',\n",
              "  'Price': 22,\n",
              "  'Quantity': '80'},\n",
              " '2007': {'Discount%': '20',\n",
              "  'Exp Date': 'March2022',\n",
              "  'Name': 'Bourbob',\n",
              "  'Price': 23,\n",
              "  'Quantity': '30'},\n",
              " '2008': {'Discount%': '20',\n",
              "  'Exp Date': 'March2022',\n",
              "  'Name': 'Melody',\n",
              "  'Price': 34,\n",
              "  'Quantity': '40'},\n",
              " '2009': {'Discount%': '20',\n",
              "  'Exp Date': 'March2022',\n",
              "  'Name': 'Milky',\n",
              "  'Price': 67,\n",
              "  'Quantity': '60'},\n",
              " '2010': {'Discount%': '30',\n",
              "  'Exp Date': 'March2022',\n",
              "  'Name': 'Diary Milk',\n",
              "  'Price': 55,\n",
              "  'Quantity': '70'},\n",
              " '2011': {'Discount%': '40',\n",
              "  'Exp Date': 'March2022',\n",
              "  'Name': 'Maza',\n",
              "  'Price': 50,\n",
              "  'Quantity': '70'},\n",
              " '2012': {'Discount%': '60',\n",
              "  'Exp Date': 'March2022',\n",
              "  'Name': '7 up',\n",
              "  'Price': 40,\n",
              "  'Quantity': '80'},\n",
              " '2013': {'Discount%': '10',\n",
              "  'Exp Date': 'March2022',\n",
              "  'Name': 'Slice',\n",
              "  'Price': 50,\n",
              "  'Quantity': '90'},\n",
              " '2014': {'Discount%': '20',\n",
              "  'Exp Date': 'March2022',\n",
              "  'Name': 'Fantacy',\n",
              "  'Price': 80,\n",
              "  'Quantity': '45'},\n",
              " '2015': {'Discount%': '60',\n",
              "  'Exp Date': 'March2022',\n",
              "  'Name': 'Kitkat',\n",
              "  'Price': 60,\n",
              "  'Quantity': '55'},\n",
              " '2016': {'Discount%': '20',\n",
              "  'Exp Date': 'March2022',\n",
              "  'Name': 'Monaco',\n",
              "  'Price': 50,\n",
              "  'Quantity': '65'},\n",
              " '2017': {'Discount%': '10',\n",
              "  'Exp Date': 'March2022',\n",
              "  'Name': 'Oreo',\n",
              "  'Price': 50,\n",
              "  'Quantity': '76'},\n",
              " '2018': {'Discount%': '30',\n",
              "  'Exp Date': 'March2022',\n",
              "  'Name': 'Cake',\n",
              "  'Price': 90,\n",
              "  'Quantity': '87'},\n",
              " '2019': {'Discount%': '40',\n",
              "  'Exp Date': 'March2022',\n",
              "  'Name': 'Chips',\n",
              "  'Price': 80,\n",
              "  'Quantity': '77'},\n",
              " '2020': {'Discount%': '30',\n",
              "  'Exp Date': 'March2022',\n",
              "  'Name': 'Badam shek',\n",
              "  'Price': 30,\n",
              "  'Quantity': '45'},\n",
              " '2021': {'Discount%': '50',\n",
              "  'Exp Date': 'March2022',\n",
              "  'Name': 'Dark silk',\n",
              "  'Price': 60,\n",
              "  'Quantity': '65'},\n",
              " '2022': {'Discount%': '40',\n",
              "  'Exp Date': 'March2022',\n",
              "  'Name': 'Limca',\n",
              "  'Price': 70,\n",
              "  'Quantity': '77'},\n",
              " '2023': {'Discount%': '40',\n",
              "  'Exp Date': 'March2022',\n",
              "  'Name': 'Pepsi',\n",
              "  'Price': 40,\n",
              "  'Quantity': '66'},\n",
              " '2024': {'Discount%': '30',\n",
              "  'Exp Date': 'March2022',\n",
              "  'Name': 'Balaji vapour',\n",
              "  'Price': 50,\n",
              "  'Quantity': '87'},\n",
              " '2025': {'Discount%': '20',\n",
              "  'Exp Date': 'March2022',\n",
              "  'Name': 'Cold coffee',\n",
              "  'Price': 30,\n",
              "  'Quantity': '56'},\n",
              " '2026': {'Discount%': '10',\n",
              "  'Exp Date': 'March2022',\n",
              "  'Name': 'Goodday',\n",
              "  'Price': 60,\n",
              "  'Quantity': '34'},\n",
              " '2027': {'Discount%': '20',\n",
              "  'Exp Date': 'March2022',\n",
              "  'Name': 'Maggie',\n",
              "  'Price': 50,\n",
              "  'Quantity': '32'},\n",
              " '2028': {'Discount%': '20',\n",
              "  'Exp Date': 'March2022',\n",
              "  'Name': 'Banana chips',\n",
              "  'Price': 90,\n",
              "  'Quantity': '87'},\n",
              " '2029': {'Discount%': '20',\n",
              "  'Exp Date': 'March2022',\n",
              "  'Name': 'Mung Dal',\n",
              "  'Price': 40,\n",
              "  'Quantity': '90'},\n",
              " '2030': {'Discount%': '20',\n",
              "  'Exp Date': 'March2022',\n",
              "  'Name': 'Bread',\n",
              "  'Price': 60,\n",
              "  'Quantity': '39'},\n",
              " '8963': {'disc': '5', 'exp': 'May22', 'name': '5 Star', 'pr': 60, 'qn': 100}}"
            ]
          },
          "metadata": {},
          "execution_count": 45
        }
      ]
    },
    {
      "cell_type": "markdown",
      "metadata": {
        "id": "w39BxwOPk48r"
      },
      "source": [
        "#Generating Bill\n"
      ]
    },
    {
      "cell_type": "code",
      "metadata": {
        "id": "dFUUvnEzk_T7",
        "colab": {
          "base_uri": "https://localhost:8080/"
        },
        "outputId": "727601a6-bda0-4765-ee5c-442dd9342502"
      },
      "source": [
        "\n",
        "ui_prod = str(input(\"Enter the product id:\"))\n",
        "ui_quant = int(input(\"Enter the quantity\"))\n",
        "if(ui_prod in records.keys()):\n",
        "  if(ui_quant < int(records[ui_prod]['Quantity'])):\n",
        "    print(\"Product:\",records[ui_prod]['Name'])\n",
        "    print(\"Discount per item(%):\",records[ui_prod]['Discount%'])\n",
        "    print(\"Price per item:\",records[ui_prod]['Price'])\n",
        "    total=records[ui_prod]['Price'] * ui_quant\n",
        "    sum=int(records[ui_prod]['Discount%']) * 0.01 * total\n",
        "    print(\"Billing amount with discount:\",total-sum)\n",
        "  else:\n",
        "    print(\"Quantity not available\")\n",
        "else:\n",
        "    print(\"Product not available\")"
      ],
      "execution_count": 46,
      "outputs": [
        {
          "output_type": "stream",
          "name": "stdout",
          "text": [
            "Enter the product id:2019\n",
            "Enter the quantity3\n",
            "Product: Chips\n",
            "Discount per item(%): 40\n",
            "Price per item: 80\n",
            "Billing amount with discount: 144.0\n"
          ]
        }
      ]
    },
    {
      "cell_type": "code",
      "metadata": {
        "id": "_nr4EXOumrdw"
      },
      "source": [
        "record[ui_prod]['Quantity'] = int(record[ui_prod]['Quantity']) - ui_quant\n",
        "js = json.dumps(record)\n",
        "\n",
        "fd = open(\"record.json\",\"w\")\n",
        "fd.write(js)\n",
        "fd.close()\n",
        "import json\n",
        "fd = open(\"record.json\",\"r\")\n",
        "r=fd.read()\n",
        "fd.close()\n",
        "\n",
        "records = json.loads(r)\n",
        "js = json.dumps(records)"
      ],
      "execution_count": 47,
      "outputs": []
    },
    {
      "cell_type": "code",
      "metadata": {
        "colab": {
          "base_uri": "https://localhost:8080/"
        },
        "id": "sZNEuBS2eGGR",
        "outputId": "e8b9f5a3-23e8-467a-9e88-2033543db1a7"
      },
      "source": [
        "records"
      ],
      "execution_count": 48,
      "outputs": [
        {
          "output_type": "execute_result",
          "data": {
            "text/plain": [
              "{'2001': {'Discount%': '20',\n",
              "  'Exp Date': 'March2022',\n",
              "  'Name': 'Choclate',\n",
              "  'Price': 10,\n",
              "  'Quantity': '20'},\n",
              " '2002': {'Discount%': '10',\n",
              "  'Exp Date': 'March2022',\n",
              "  'Name': 'Marie',\n",
              "  'Price': 40,\n",
              "  'Quantity': '80'},\n",
              " '2003': {'Discount%': '30',\n",
              "  'Exp Date': 'March2022',\n",
              "  'Name': 'Peark',\n",
              "  'Price': 40,\n",
              "  'Quantity': '30'},\n",
              " '2004': {'Discount%': '10',\n",
              "  'Exp Date': 'March2022',\n",
              "  'Name': 'Chocos',\n",
              "  'Price': 60,\n",
              "  'Quantity': '50'},\n",
              " '2005': {'Discount%': '40',\n",
              "  'Exp Date': 'March2022',\n",
              "  'Name': 'Lolipop',\n",
              "  'Price': 70,\n",
              "  'Quantity': '60'},\n",
              " '2006': {'Discount%': '50',\n",
              "  'Exp Date': 'March2022',\n",
              "  'Name': 'Parle G',\n",
              "  'Price': 22,\n",
              "  'Quantity': '80'},\n",
              " '2007': {'Discount%': '20',\n",
              "  'Exp Date': 'March2022',\n",
              "  'Name': 'Bourbob',\n",
              "  'Price': 23,\n",
              "  'Quantity': '30'},\n",
              " '2008': {'Discount%': '20',\n",
              "  'Exp Date': 'March2022',\n",
              "  'Name': 'Melody',\n",
              "  'Price': 34,\n",
              "  'Quantity': '40'},\n",
              " '2009': {'Discount%': '20',\n",
              "  'Exp Date': 'March2022',\n",
              "  'Name': 'Milky',\n",
              "  'Price': 67,\n",
              "  'Quantity': '60'},\n",
              " '2010': {'Discount%': '30',\n",
              "  'Exp Date': 'March2022',\n",
              "  'Name': 'Diary Milk',\n",
              "  'Price': 55,\n",
              "  'Quantity': '70'},\n",
              " '2011': {'Discount%': '40',\n",
              "  'Exp Date': 'March2022',\n",
              "  'Name': 'Maza',\n",
              "  'Price': 50,\n",
              "  'Quantity': '70'},\n",
              " '2012': {'Discount%': '60',\n",
              "  'Exp Date': 'March2022',\n",
              "  'Name': '7 up',\n",
              "  'Price': 40,\n",
              "  'Quantity': '80'},\n",
              " '2013': {'Discount%': '10',\n",
              "  'Exp Date': 'March2022',\n",
              "  'Name': 'Slice',\n",
              "  'Price': 50,\n",
              "  'Quantity': '90'},\n",
              " '2014': {'Discount%': '20',\n",
              "  'Exp Date': 'March2022',\n",
              "  'Name': 'Fantacy',\n",
              "  'Price': 80,\n",
              "  'Quantity': '45'},\n",
              " '2015': {'Discount%': '60',\n",
              "  'Exp Date': 'March2022',\n",
              "  'Name': 'Kitkat',\n",
              "  'Price': 60,\n",
              "  'Quantity': '55'},\n",
              " '2016': {'Discount%': '20',\n",
              "  'Exp Date': 'March2022',\n",
              "  'Name': 'Monaco',\n",
              "  'Price': 50,\n",
              "  'Quantity': '65'},\n",
              " '2017': {'Discount%': '10',\n",
              "  'Exp Date': 'March2022',\n",
              "  'Name': 'Oreo',\n",
              "  'Price': 50,\n",
              "  'Quantity': '76'},\n",
              " '2018': {'Discount%': '30',\n",
              "  'Exp Date': 'March2022',\n",
              "  'Name': 'Cake',\n",
              "  'Price': 90,\n",
              "  'Quantity': '87'},\n",
              " '2019': {'Discount%': '40',\n",
              "  'Exp Date': 'March2022',\n",
              "  'Name': 'Chips',\n",
              "  'Price': 80,\n",
              "  'Quantity': 74},\n",
              " '2020': {'Discount%': '30',\n",
              "  'Exp Date': 'March2022',\n",
              "  'Name': 'Badam shek',\n",
              "  'Price': 30,\n",
              "  'Quantity': '45'},\n",
              " '2021': {'Discount%': '50',\n",
              "  'Exp Date': 'March2022',\n",
              "  'Name': 'Dark silk',\n",
              "  'Price': 60,\n",
              "  'Quantity': '65'},\n",
              " '2022': {'Discount%': '40',\n",
              "  'Exp Date': 'March2022',\n",
              "  'Name': 'Limca',\n",
              "  'Price': 70,\n",
              "  'Quantity': '77'},\n",
              " '2023': {'Discount%': '40',\n",
              "  'Exp Date': 'March2022',\n",
              "  'Name': 'Pepsi',\n",
              "  'Price': 40,\n",
              "  'Quantity': '66'},\n",
              " '2024': {'Discount%': '30',\n",
              "  'Exp Date': 'March2022',\n",
              "  'Name': 'Balaji vapour',\n",
              "  'Price': 50,\n",
              "  'Quantity': '87'},\n",
              " '2025': {'Discount%': '20',\n",
              "  'Exp Date': 'March2022',\n",
              "  'Name': 'Cold coffee',\n",
              "  'Price': 30,\n",
              "  'Quantity': '56'},\n",
              " '2026': {'Discount%': '10',\n",
              "  'Exp Date': 'March2022',\n",
              "  'Name': 'Goodday',\n",
              "  'Price': 60,\n",
              "  'Quantity': '34'},\n",
              " '2027': {'Discount%': '20',\n",
              "  'Exp Date': 'March2022',\n",
              "  'Name': 'Maggie',\n",
              "  'Price': 50,\n",
              "  'Quantity': '32'},\n",
              " '2028': {'Discount%': '20',\n",
              "  'Exp Date': 'March2022',\n",
              "  'Name': 'Banana chips',\n",
              "  'Price': 90,\n",
              "  'Quantity': '87'},\n",
              " '2029': {'Discount%': '20',\n",
              "  'Exp Date': 'March2022',\n",
              "  'Name': 'Mung Dal',\n",
              "  'Price': 40,\n",
              "  'Quantity': '90'},\n",
              " '2030': {'Discount%': '20',\n",
              "  'Exp Date': 'March2022',\n",
              "  'Name': 'Bread',\n",
              "  'Price': 60,\n",
              "  'Quantity': '39'},\n",
              " '8963': {'disc': '5', 'exp': 'May22', 'name': '5 Star', 'pr': 60, 'qn': 100}}"
            ]
          },
          "metadata": {},
          "execution_count": 48
        }
      ]
    },
    {
      "cell_type": "code",
      "metadata": {
        "id": "mw7i8Wa8m0qb"
      },
      "source": [
        "fd = open(\"record.json\",\"w\")\n",
        "fd.write(js)\n",
        "fd.close()\n"
      ],
      "execution_count": 49,
      "outputs": []
    },
    {
      "cell_type": "code",
      "metadata": {
        "id": "yY7vG5Obm-yV",
        "colab": {
          "base_uri": "https://localhost:8080/",
          "height": 421
        },
        "outputId": "0992f183-a2d1-4d9d-feea-c365a6211781"
      },
      "source": [
        "js"
      ],
      "execution_count": 50,
      "outputs": [
        {
          "output_type": "execute_result",
          "data": {
            "application/vnd.google.colaboratory.intrinsic+json": {
              "type": "string"
            },
            "text/plain": [
              "'{\"2001\": {\"Name\": \"Choclate\", \"Price\": 10, \"Discount%\": \"20\", \"Exp Date\": \"March2022\", \"Quantity\": \"20\"}, \"2002\": {\"Name\": \"Marie\", \"Price\": 40, \"Discount%\": \"10\", \"Exp Date\": \"March2022\", \"Quantity\": \"80\"}, \"2003\": {\"Name\": \"Peark\", \"Price\": 40, \"Discount%\": \"30\", \"Exp Date\": \"March2022\", \"Quantity\": \"30\"}, \"2004\": {\"Name\": \"Chocos\", \"Price\": 60, \"Discount%\": \"10\", \"Exp Date\": \"March2022\", \"Quantity\": \"50\"}, \"2005\": {\"Name\": \"Lolipop\", \"Price\": 70, \"Discount%\": \"40\", \"Exp Date\": \"March2022\", \"Quantity\": \"60\"}, \"2006\": {\"Name\": \"Parle G\", \"Price\": 22, \"Discount%\": \"50\", \"Exp Date\": \"March2022\", \"Quantity\": \"80\"}, \"2007\": {\"Name\": \"Bourbob\", \"Price\": 23, \"Discount%\": \"20\", \"Exp Date\": \"March2022\", \"Quantity\": \"30\"}, \"2008\": {\"Name\": \"Melody\", \"Price\": 34, \"Discount%\": \"20\", \"Exp Date\": \"March2022\", \"Quantity\": \"40\"}, \"2009\": {\"Name\": \"Milky\", \"Price\": 67, \"Discount%\": \"20\", \"Exp Date\": \"March2022\", \"Quantity\": \"60\"}, \"2010\": {\"Name\": \"Diary Milk\", \"Price\": 55, \"Discount%\": \"30\", \"Exp Date\": \"March2022\", \"Quantity\": \"70\"}, \"2011\": {\"Name\": \"Maza\", \"Price\": 50, \"Discount%\": \"40\", \"Exp Date\": \"March2022\", \"Quantity\": \"70\"}, \"2012\": {\"Name\": \"7 up\", \"Price\": 40, \"Discount%\": \"60\", \"Exp Date\": \"March2022\", \"Quantity\": \"80\"}, \"2013\": {\"Name\": \"Slice\", \"Price\": 50, \"Discount%\": \"10\", \"Exp Date\": \"March2022\", \"Quantity\": \"90\"}, \"2014\": {\"Name\": \"Fantacy\", \"Price\": 80, \"Discount%\": \"20\", \"Exp Date\": \"March2022\", \"Quantity\": \"45\"}, \"2015\": {\"Name\": \"Kitkat\", \"Price\": 60, \"Discount%\": \"60\", \"Exp Date\": \"March2022\", \"Quantity\": \"55\"}, \"2016\": {\"Name\": \"Monaco\", \"Price\": 50, \"Discount%\": \"20\", \"Exp Date\": \"March2022\", \"Quantity\": \"65\"}, \"2017\": {\"Name\": \"Oreo\", \"Price\": 50, \"Discount%\": \"10\", \"Exp Date\": \"March2022\", \"Quantity\": \"76\"}, \"2018\": {\"Name\": \"Cake\", \"Price\": 90, \"Discount%\": \"30\", \"Exp Date\": \"March2022\", \"Quantity\": \"87\"}, \"2019\": {\"Name\": \"Chips\", \"Price\": 80, \"Discount%\": \"40\", \"Exp Date\": \"March2022\", \"Quantity\": 74}, \"2020\": {\"Name\": \"Badam shek\", \"Price\": 30, \"Discount%\": \"30\", \"Exp Date\": \"March2022\", \"Quantity\": \"45\"}, \"2021\": {\"Name\": \"Dark silk\", \"Price\": 60, \"Discount%\": \"50\", \"Exp Date\": \"March2022\", \"Quantity\": \"65\"}, \"2022\": {\"Name\": \"Limca\", \"Price\": 70, \"Discount%\": \"40\", \"Exp Date\": \"March2022\", \"Quantity\": \"77\"}, \"2023\": {\"Name\": \"Pepsi\", \"Price\": 40, \"Discount%\": \"40\", \"Exp Date\": \"March2022\", \"Quantity\": \"66\"}, \"2024\": {\"Name\": \"Balaji vapour\", \"Price\": 50, \"Discount%\": \"30\", \"Exp Date\": \"March2022\", \"Quantity\": \"87\"}, \"2025\": {\"Name\": \"Cold coffee\", \"Price\": 30, \"Discount%\": \"20\", \"Exp Date\": \"March2022\", \"Quantity\": \"56\"}, \"2026\": {\"Name\": \"Goodday\", \"Price\": 60, \"Discount%\": \"10\", \"Exp Date\": \"March2022\", \"Quantity\": \"34\"}, \"2027\": {\"Name\": \"Maggie\", \"Price\": 50, \"Discount%\": \"20\", \"Exp Date\": \"March2022\", \"Quantity\": \"32\"}, \"2028\": {\"Name\": \"Banana chips\", \"Price\": 90, \"Discount%\": \"20\", \"Exp Date\": \"March2022\", \"Quantity\": \"87\"}, \"2029\": {\"Name\": \"Mung Dal\", \"Price\": 40, \"Discount%\": \"20\", \"Exp Date\": \"March2022\", \"Quantity\": \"90\"}, \"2030\": {\"Name\": \"Bread\", \"Price\": 60, \"Discount%\": \"20\", \"Exp Date\": \"March2022\", \"Quantity\": \"39\"}, \"8963\": {\"name\": \"5 Star\", \"pr\": 60, \"disc\": \"5\", \"exp\": \"May22\", \"qn\": 100}}'"
            ]
          },
          "metadata": {},
          "execution_count": 50
        }
      ]
    },
    {
      "cell_type": "markdown",
      "metadata": {
        "id": "VXHHsWHVnOy-"
      },
      "source": [
        "Update Inventory after purchase\n"
      ]
    },
    {
      "cell_type": "code",
      "metadata": {
        "id": "M1zJMwV7nWgp"
      },
      "source": [
        "sales = {1:{'Prod':ui_prod,'qn':ui_quant,'amount':records[ui_prod]['Price'] * ui_quant}}"
      ],
      "execution_count": 51,
      "outputs": []
    },
    {
      "cell_type": "code",
      "metadata": {
        "id": "NxJigCGhn7xc"
      },
      "source": [
        "js=json.dumps(sales)"
      ],
      "execution_count": 52,
      "outputs": []
    },
    {
      "cell_type": "code",
      "metadata": {
        "id": "UNrfynQmovJF"
      },
      "source": [
        "fd = open(\"sale.json\",\"w\")\n",
        "fd.write(js)\n",
        "fd.close()"
      ],
      "execution_count": 53,
      "outputs": []
    },
    {
      "cell_type": "code",
      "metadata": {
        "id": "ZNe-Sy57o6Mv"
      },
      "source": [
        "fd = open(\"sale.json\",\"r\")\n",
        "r = fd.read()\n",
        "fd.close()"
      ],
      "execution_count": 54,
      "outputs": []
    },
    {
      "cell_type": "code",
      "metadata": {
        "colab": {
          "base_uri": "https://localhost:8080/"
        },
        "id": "K4OnXfHAxOjA",
        "outputId": "b3a4a909-b2f3-4566-941f-f76e4e534591"
      },
      "source": [
        "sales"
      ],
      "execution_count": 55,
      "outputs": [
        {
          "output_type": "execute_result",
          "data": {
            "text/plain": [
              "{1: {'Prod': '2019', 'amount': 240, 'qn': 3}}"
            ]
          },
          "metadata": {},
          "execution_count": 55
        }
      ]
    }
  ]
}